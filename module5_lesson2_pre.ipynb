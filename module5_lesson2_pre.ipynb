{
 "cells": [
  {
   "cell_type": "markdown",
   "metadata": {},
   "source": [
    "# Poisson's equation"
   ]
  },
  {
   "cell_type": "code",
   "execution_count": null,
   "metadata": {},
   "outputs": [],
   "source": [
    "# Import libraries.\n",
    "from matplotlib import pyplot, cm\n",
    "from mpl_toolkits import mplot3d\n",
    "import numpy\n",
    "\n",
    "%matplotlib inline"
   ]
  },
  {
   "cell_type": "code",
   "execution_count": null,
   "metadata": {},
   "outputs": [],
   "source": [
    "# Update default font family and size for Matplotlib figures.\n",
    "pyplot.rc('font', family='serif', size=16)"
   ]
  },
  {
   "cell_type": "markdown",
   "metadata": {},
   "source": [
    "## Problem setup\n",
    "\n",
    "Let's consider the following Poisson equation:\n",
    "\n",
    "$$\n",
    "\\nabla^2 p = -2 \\left( \\frac{\\pi}{2} \\right)^2 \\sin \\left( \\pi \\frac{x}{L_x} \\right) \\cos \\left( \\pi \\frac{y}{L_y} \\right)\n",
    "$$\n",
    "\n",
    "in the domain $\\Omega = \\left[ 0, 1 \\right] \\times \\left[ -0.5, 0.5 \\right]$ with $L_x = L_y = 1$.\n",
    "\n",
    "Let's use a Dirichlet condition $u = 0$ on all boundaries and $u = 0$ as our initial guess."
   ]
  },
  {
   "cell_type": "markdown",
   "metadata": {},
   "source": [
    "## Analytical solution\n",
    "\n",
    "$$\n",
    "p \\left( x, y \\right) = \\sin \\left( \\pi \\frac{x}{L_x} \\right) \\cos \\left( \\pi \\frac{y}{L_y} \\right)\n",
    "$$"
   ]
  },
  {
   "cell_type": "code",
   "execution_count": null,
   "metadata": {},
   "outputs": [],
   "source": [
    "def poisson_solution(x, y, Lx, Ly):\n",
    "    \"\"\"Compute the analytical solution.\n",
    "\n",
    "    Parameters\n",
    "    ----------\n",
    "    x : numpy.ndarray\n",
    "        Coordinates in the x direction as a 1D array of floats.\n",
    "    y : numpy.ndarray\n",
    "        Coordinates in the y direction as a 1D array of floats.\n",
    "    Lx : float\n",
    "        Length of the domain in the x direction.\n",
    "    Ly : float\n",
    "        Length of the domain in the y direction.\n",
    "\n",
    "    Returns\n",
    "    -------\n",
    "    p : numpy.ndarray\n",
    "        The analytical solution as a 2D array of floats.\n",
    "\n",
    "    \"\"\"\n",
    "    ###\n",
    "    # To do: Compute the analytical solution.\n",
    "    ###\n",
    "    \n",
    "    return p"
   ]
  },
  {
   "cell_type": "code",
   "execution_count": null,
   "metadata": {},
   "outputs": [],
   "source": [
    "def plot_3d(x, y, p, label='$z$', elev=30.0, azim=45.0):\n",
    "    \"\"\"Create a 3D surface plot of the scalar field `p`.\n",
    "\n",
    "    Parameters\n",
    "    ----------\n",
    "    x : numpy.ndarray\n",
    "        Gridline locations in the x direction as a 1D array of floats.\n",
    "    y : numpy.ndarray\n",
    "        Gridline locations in the y direction as a 1D array of floats.\n",
    "    p : numpy.ndarray\n",
    "        Scalar field to plot as a 2D array of floats.\n",
    "    label : string, optional\n",
    "        Axis label to use in the third direction; default: 'z'.\n",
    "    elev : float, optional\n",
    "        Elevation angle in the z plane; default: 30.0.\n",
    "    azim : float, optional\n",
    "        Azimuth angle in the x,y plane; default: 45.0.\n",
    "\n",
    "    \"\"\"\n",
    "    fig = pyplot.figure(figsize=(8.0, 6.0))\n",
    "    ax = mplot3d.Axes3D(fig)\n",
    "    ax.set_xlabel('$x$')\n",
    "    ax.set_ylabel('$y$')\n",
    "    ax.set_zlabel(label)\n",
    "    X, Y = numpy.meshgrid(x, y)\n",
    "    ax.plot_surface(X, Y, p, cmap=cm.viridis)\n",
    "    ax.set_xlim(x[0], x[-1])\n",
    "    ax.set_ylim(y[0], y[-1])\n",
    "    ax.view_init(elev=elev, azim=azim)"
   ]
  },
  {
   "cell_type": "code",
   "execution_count": null,
   "metadata": {},
   "outputs": [],
   "source": [
    "# Set parameters.\n",
    "Lx, Ly = 1.0, 1.0  # lengths of the domain\n",
    "nx, ny = 41, 41  # number of points along each direction\n",
    "dx, dy = Lx / (nx - 1), Ly / (ny - 1)  # grid-spacing sizes\n",
    "\n",
    "# Set the grid-point coordinates.\n",
    "x = numpy.linspace(0.0, Lx, num=nx)\n",
    "y = numpy.linspace(-0.5 * Ly, 0.5 * Ly, num=ny)\n",
    "\n",
    "###\n",
    "# To do: Compute and plot the analytical solution.\n",
    "###\n"
   ]
  },
  {
   "cell_type": "markdown",
   "metadata": {},
   "source": [
    "## Initial solution"
   ]
  },
  {
   "cell_type": "code",
   "execution_count": null,
   "metadata": {},
   "outputs": [],
   "source": [
    "###\n",
    "# To do: set the initial guess.\n",
    "###\n"
   ]
  },
  {
   "cell_type": "markdown",
   "metadata": {},
   "source": [
    "## Source term\n",
    "\n",
    "$$\n",
    "\\nabla^2 p = b\n",
    "$$\n",
    "\n",
    "with\n",
    "\n",
    "$$\n",
    "b = -2 \\left( \\frac{\\pi}{2} \\right)^2 \\sin \\left( \\pi \\frac{x}{L_x} \\right) \\cos \\left( \\pi \\frac{y}{L_y} \\right)\n",
    "$$"
   ]
  },
  {
   "cell_type": "code",
   "execution_count": null,
   "metadata": {},
   "outputs": [],
   "source": [
    "def poisson_source(x, y, Lx, Ly):\n",
    "    \"\"\"Compute the Poisson source term.\n",
    "    \n",
    "    Parameters\n",
    "    ----------\n",
    "    x : numpy.ndarray\n",
    "        Coordinates in the x direction as a 1D array of floats.\n",
    "    y : numpy.ndarray\n",
    "        Coordinates in the x direction as a 1D array of floats.\n",
    "    Lx : float\n",
    "        Domain length in the x direction.\n",
    "    Ly : float\n",
    "        Domain length in the y direction.\n",
    "    \n",
    "    Returns\n",
    "    -------\n",
    "    b : numpy.ndarray\n",
    "        The forcing term as a 2D array of floats.\n",
    "\n",
    "    \"\"\"\n",
    "    ###\n",
    "    # To do: Compute the source term `b`.\n",
    "    ###\n",
    "    \n",
    "    return b"
   ]
  },
  {
   "cell_type": "code",
   "execution_count": null,
   "metadata": {},
   "outputs": [],
   "source": [
    "###\n",
    "# To do: Compute the source term.\n",
    "###\n"
   ]
  },
  {
   "cell_type": "markdown",
   "metadata": {},
   "source": [
    "## Jacobi method\n",
    "\n",
    "$$\n",
    "u_{i, j}^{k+1} = \\frac{1}{4} \\left( u_{i, j-1}^k + u_{i-1, j}^k + u_{i+1, j}^k + u_{i, j+1}^k - b_{i, j} \\right)\n",
    "$$"
   ]
  },
  {
   "cell_type": "code",
   "execution_count": null,
   "metadata": {},
   "outputs": [],
   "source": [
    "def poisson_2d_jacobi(p0, b, delta, maxiter=20000, rtol=1e-8):\n",
    "    \"\"\"Solve the 2D Poisson equation using Jacobi method.\n",
    "\n",
    "    Parameters\n",
    "    ----------\n",
    "    p0 : numpy.ndarray\n",
    "        The initial solution as a 2D array of floats.\n",
    "    b : numpy.ndarray\n",
    "        The forcing term as a 2D array of floats.\n",
    "    delta : float\n",
    "        Grid spacing in the x and y directions.\n",
    "    maxiter : integer, optional\n",
    "        Maximum number of iterations to perform; default: 20000.\n",
    "    rtol : float, optional\n",
    "        Relative tolerance for convergence; default: 1e-8.\n",
    "\n",
    "    Returns\n",
    "    -------\n",
    "    p : numpy.ndarray\n",
    "        The solution after relaxation as a 2D array of floats.\n",
    "    ite : integer\n",
    "        The number of iterations performed.\n",
    "    conv : list\n",
    "        The convergence history as a list of floats.\n",
    "\n",
    "    \"\"\"\n",
    "    p = p0.copy()  # create copy to not overwrite initial guess\n",
    "    conv = []  # convergence history\n",
    "    diff = rtol + 1.0  # initialize residual to \"high\" value\n",
    "    ite = 0  # initialize iteration index\n",
    "    while diff > rtol and ite < maxiter:\n",
    "        pn = p.copy()  # store the solution at previous iteration\n",
    "        ite += 1  # update the iteration index\n",
    "        ###\n",
    "        # To do: Update the solution using Jacobi method.\n",
    "        # To do: Update the value at boundaries (where necessary).\n",
    "        # To do: Compute `diff`, the relative L2-norm of the difference\n",
    "        # in the solution between two successive iterations.\n",
    "        # To do: Append the new `diff` to the history `conv`.\n",
    "        ###\n",
    "        \n",
    "    return p, ite, conv"
   ]
  },
  {
   "cell_type": "code",
   "execution_count": null,
   "metadata": {},
   "outputs": [],
   "source": [
    "###\n",
    "# To do: Compute the numerical solution of the Poisson equation.\n",
    "# Question: How many iterations was needed?\n",
    "# Question: What's the value of the final residual?\n",
    "###\n",
    "\n",
    "\n",
    "###\n",
    "# To do: Plot the numerical solution.\n",
    "###\n"
   ]
  },
  {
   "cell_type": "code",
   "execution_count": null,
   "metadata": {},
   "outputs": [],
   "source": [
    "###\n",
    "# To do: Plot (semilog) the convergence history.\n",
    "###\n"
   ]
  },
  {
   "cell_type": "markdown",
   "metadata": {},
   "source": [
    "## Spatial convergence analysis"
   ]
  },
  {
   "cell_type": "code",
   "execution_count": null,
   "metadata": {},
   "outputs": [],
   "source": [
    "# List of grid-spacing sizes to investigate.\n",
    "dx_vals = [0.1, 0.05, 0.025, 0.0125]\n",
    "\n",
    "# Empty list to store the error on each grid.\n",
    "errors = []\n",
    "\n",
    "for dx in dx_vals:\n",
    "    ###\n",
    "    # To do: Re-create the space grid.\n",
    "    # To do: Re-set the initial guess.\n",
    "    # To do: Re-compute the source term.\n",
    "    # To do: Relax the solution with Jacobi.\n",
    "    # To do: Compute the analytical solution.\n",
    "    # To do: Compute and append the relative L2 error to `errors`.\n",
    "    ###\n",
    "    "
   ]
  },
  {
   "cell_type": "code",
   "execution_count": null,
   "metadata": {},
   "outputs": [],
   "source": [
    "###\n",
    "# To do: Plot (loglog) the error versus the grid-spacing size.\n",
    "# Question: What's the order of convergence?\n",
    "###\n"
   ]
  },
  {
   "cell_type": "code",
   "execution_count": null,
   "metadata": {},
   "outputs": [],
   "source": []
  }
 ],
 "metadata": {
  "kernelspec": {
   "display_name": "Python 3 (MAE6286)",
   "language": "python",
   "name": "py36-mae6286"
  },
  "language_info": {
   "codemirror_mode": {
    "name": "ipython",
    "version": 3
   },
   "file_extension": ".py",
   "mimetype": "text/x-python",
   "name": "python",
   "nbconvert_exporter": "python",
   "pygments_lexer": "ipython3",
   "version": "3.6.9"
  }
 },
 "nbformat": 4,
 "nbformat_minor": 2
}
