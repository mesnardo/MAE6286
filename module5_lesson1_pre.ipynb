{
 "cells": [
  {
   "cell_type": "markdown",
   "metadata": {},
   "source": [
    "# Laplace's equation"
   ]
  },
  {
   "cell_type": "code",
   "execution_count": null,
   "metadata": {},
   "outputs": [],
   "source": [
    "# Import libraries.\n",
    "from matplotlib import pyplot, cm\n",
    "from mpl_toolkits import mplot3d\n",
    "import numpy\n",
    "\n",
    "%matplotlib inline"
   ]
  },
  {
   "cell_type": "code",
   "execution_count": null,
   "metadata": {},
   "outputs": [],
   "source": [
    "# Change default font family and size for Matplotlib figures.\n",
    "pyplot.rc('font', family='serif', size=16)"
   ]
  },
  {
   "cell_type": "markdown",
   "metadata": {},
   "source": [
    "## Problem setup\n",
    "\n",
    "Solve the Laplace's equation $\\nabla^2 u = 0$ in the domain $\\Omega = \\left[ 0, L_x \\right] \\times \\left[ 0, L_y \\right]$\n",
    "\n",
    "<img src=\"figures/application_setup.png\" alt=\"application_setup\" width=\"300\"/>\n",
    "\n",
    "Initial guess: $u = 0$ everywhere inside the domain."
   ]
  },
  {
   "cell_type": "markdown",
   "metadata": {},
   "source": [
    "## Analytical solution\n",
    "\n",
    "$$\n",
    "u \\left( x, y \\right) = \\frac{\\sinh \\left( \\frac{3}{2} \\pi \\frac{y}{L_y} \\right)}{\\sinh \\left( \\frac{3}{2} \\pi \\frac{L_x}{L_y} \\right)} \\sin \\left( \\frac{3}{2} \\pi \\frac{x}{L_x} \\right)\n",
    "$$"
   ]
  },
  {
   "cell_type": "code",
   "execution_count": null,
   "metadata": {},
   "outputs": [],
   "source": [
    "def laplace_solution(x, y, Lx, Ly):\n",
    "    \"\"\"Return the analytical solution.\n",
    "\n",
    "    Parameters\n",
    "    ----------\n",
    "    x : numpy.ndarray\n",
    "        Coordinates along the x direction as a 1D array of floats.\n",
    "    y : numpy.ndarray\n",
    "        Coordinates along the y direction as a 1D array of floats.\n",
    "    Lx : float\n",
    "        Length of the domain in the x direction.\n",
    "    Ly : float\n",
    "        Length of the domain in the y direction.\n",
    "\n",
    "    Returns\n",
    "    -------\n",
    "    u : numpy.ndarray\n",
    "        The analytical solution as a 2D array of floats.\n",
    "\n",
    "    \"\"\"\n",
    "    ###\n",
    "    # To do: Compute the analytical solution.\n",
    "    ###\n",
    "    \n",
    "    return u"
   ]
  },
  {
   "cell_type": "code",
   "execution_count": null,
   "metadata": {},
   "outputs": [],
   "source": [
    "def plot_3d(x, y, u, label='$z$', elev=30.0, azim=45.0):\n",
    "    \"\"\"Create a 3D surface plot of the scalar field `u`.\n",
    "\n",
    "    Parameters\n",
    "    ----------\n",
    "    x : numpy.ndarray\n",
    "        Gridline locations in the x direction as a 1D array of floats.\n",
    "    y : numpy.ndarray\n",
    "        Gridline locations in the y direction as a 1D array of floats.\n",
    "    u : numpy.ndarray\n",
    "        Scalar field to plot as a 2D array of floats.\n",
    "    label : string, optional\n",
    "        Axis label to use in the third direction; default: 'z'.\n",
    "    elev : float, optional\n",
    "        Elevation angle in the z plane; default: 30.0.\n",
    "    azim : float, optional\n",
    "        Azimuth angle in the x,y plane; default: 45.0.\n",
    "\n",
    "    \"\"\"\n",
    "    fig = pyplot.figure(figsize=(8.0, 6.0))\n",
    "    ax = mplot3d.Axes3D(fig)\n",
    "    ax.set_xlabel('$x$')\n",
    "    ax.set_ylabel('$y$')\n",
    "    ax.set_zlabel(label)\n",
    "    X, Y = numpy.meshgrid(x, y)\n",
    "    ax.plot_surface(X, Y, u, cmap=cm.viridis)\n",
    "    ax.set_xlim(x[0], x[-1])\n",
    "    ax.set_ylim(y[0], y[-1])\n",
    "    ax.view_init(elev=elev, azim=azim)"
   ]
  },
  {
   "cell_type": "code",
   "execution_count": null,
   "metadata": {},
   "outputs": [],
   "source": [
    "# Set parameters.\n",
    "Lx, Ly = 1.0, 1.0  # lengths of the domain\n",
    "nx, ny = 41, 41  # number of points along each direction\n",
    "\n",
    "# Define grid-point locations.\n",
    "x = numpy.linspace(0.0, Lx, num=nx)\n",
    "y = numpy.linspace(0.0, Ly, num=ny)\n",
    "\n",
    "###\n",
    "# To do: Compute and plot the analytical solution.\n",
    "###\n"
   ]
  },
  {
   "cell_type": "markdown",
   "metadata": {},
   "source": [
    "## Initial solution\n",
    "\n",
    "<img src=\"figures/application_setup.png\" alt=\"application_setup\" width=\"300\"/>\n",
    "\n",
    "Initial guess: $u = 0$ everywhere inside the domain.\n",
    "\n",
    "Boundary values:\n",
    "\n",
    "* Bottom and left: $u = 0$\n",
    "* Top: $u = \\sin \\left( \\frac{3}{2} \\pi \\frac{x}{L_x} \\right)$\n",
    "* Right: $\\frac{\\partial u}{\\partial x} = 0$"
   ]
  },
  {
   "cell_type": "code",
   "execution_count": null,
   "metadata": {},
   "outputs": [],
   "source": [
    "###\n",
    "# To do: Set the initial guess `u0`.\n",
    "###\n",
    "\n",
    "\n",
    "###\n",
    "# To do: Plot the initial guess.\n",
    "###\n"
   ]
  },
  {
   "cell_type": "markdown",
   "metadata": {},
   "source": [
    "## Jacobi method\n",
    "\n",
    "$$\n",
    "u_{i, j}^{k+1} = \\frac{1}{4} \\left( u_{i, j-1}^k + u_{i-1, j}^k + u_{i+1, j}^k + u_{i, j+1}^k \\right)\n",
    "$$"
   ]
  },
  {
   "cell_type": "code",
   "execution_count": null,
   "metadata": {},
   "outputs": [],
   "source": [
    "def laplace_2d_jacobi(u0, maxiter=20000, rtol=1e-8):\n",
    "    \"\"\"Solve the 2D Laplace equation using Jacobi method.\n",
    "\n",
    "    Parameters\n",
    "    ----------\n",
    "    u0 : numpy.ndarray\n",
    "        The initial solution as a 2D array of floats.\n",
    "    maxiter : integer, optional\n",
    "        Maximum number of iterations to perform; default: 20000.\n",
    "    rtol : float, optional\n",
    "        Relative tolerance for convergence; default: 1e-8.\n",
    "\n",
    "    Returns\n",
    "    -------\n",
    "    u : numpy.ndarray\n",
    "        The solution after relaxation as a 2D array of floats.\n",
    "    ite : integer\n",
    "        The number of iterations computed.\n",
    "    diff : float\n",
    "        The final relative L2-norm of the difference.\n",
    "\n",
    "    \"\"\"\n",
    "    u = u0.copy()  # create copy to not overwrite initial guess\n",
    "    diff = rtol + 1.0  # initialize residual to \"high\" value\n",
    "    ite = 0  # initialize iteration index\n",
    "    while diff > rtol and ite < maxiter:\n",
    "        un = u.copy()  # store the solution at previous iteration\n",
    "        ite += 1  # update the iteration index\n",
    "        ###\n",
    "        # To do: Update the solution using Jacobi method.\n",
    "        # To do: Update the value at boundaries (where necessary).\n",
    "        # To do: Compute `diff`, the relative L2-norm of the difference\n",
    "        # in the solution between two successive iterations.\n",
    "        ###\n",
    "\n",
    "    return u, ite, diff"
   ]
  },
  {
   "cell_type": "code",
   "execution_count": null,
   "metadata": {},
   "outputs": [],
   "source": [
    "###\n",
    "# To do: Compute the numerical solution of the Laplace equation.\n",
    "# Question: How many iterations was needed?\n",
    "# Question: What's the value of the final residual?\n",
    "###\n",
    "\n",
    "\n",
    "###\n",
    "# To do: Plot the numerical solution.\n",
    "###\n"
   ]
  },
  {
   "cell_type": "markdown",
   "metadata": {},
   "source": [
    "## Convergence analysis"
   ]
  },
  {
   "cell_type": "code",
   "execution_count": null,
   "metadata": {},
   "outputs": [],
   "source": [
    "# List of grid-spacing sizes to investigate.\n",
    "dx_vals = [0.1, 0.05, 0.025, 0.0125]\n",
    "\n",
    "# Empty list to store the error on each grid.\n",
    "errors = []\n",
    "\n",
    "for dx in dx_vals:\n",
    "    ###\n",
    "    # To do: Re-create the space grid.\n",
    "    # To do: re-set the initial guess.\n",
    "    # To do: Relax the solution with Jacobi.\n",
    "    # To do: Compute the analytical solution.\n",
    "    # To do: Compute and append the relative L2 error to `errors`.\n",
    "    ###\n",
    "    "
   ]
  },
  {
   "cell_type": "code",
   "execution_count": null,
   "metadata": {},
   "outputs": [],
   "source": [
    "###\n",
    "# To do: Plot (loglog) the error versus the grid-spacing size.\n",
    "# Question: What's the order of convergence?\n",
    "###\n"
   ]
  },
  {
   "cell_type": "markdown",
   "metadata": {},
   "source": [
    "## 2nd-order Neumann boundary conditions"
   ]
  },
  {
   "cell_type": "code",
   "execution_count": null,
   "metadata": {},
   "outputs": [],
   "source": [
    "def laplace_2d_jacobi_neumann(u0, maxiter=20000, rtol=1e-8):\n",
    "    \"\"\"Solve the 2D Laplace equation using Jacobi method.\n",
    "\n",
    "    Use a second-order approximation for Neumann boundary conditions.\n",
    "\n",
    "    Parameters\n",
    "    ----------\n",
    "    u0 : numpy.ndarray\n",
    "        The initial solution as a 2D array of floats.\n",
    "    maxiter : integer, optional\n",
    "        Maximum number of iterations to perform; default: 20000.\n",
    "    rtol : float, optional\n",
    "        Relative tolerance for convergence; default: 1e-8.\n",
    "\n",
    "    Returns\n",
    "    -------\n",
    "    u : numpy.ndarray\n",
    "        The solution after relaxation as a 2D array of floats.\n",
    "    ite : integer\n",
    "        The number of iterations performed.\n",
    "    diff : float\n",
    "        The final relative L2-norm of the difference.\n",
    "\n",
    "    \"\"\"\n",
    "    u = u0.copy()  # create copy to not overwrite initial guess\n",
    "    diff = rtol + 1.0  # initialize residual to \"high\" value\n",
    "    ite = 0  # initialize iteration index\n",
    "    while diff > rtol and ite < maxiter:\n",
    "        un = u.copy()  # store the solution at previous iteration\n",
    "        ite += 1  # update the iteration index\n",
    "        ###\n",
    "        # To do: Update the solution using Jacobi method.\n",
    "        # To do: Update the value at boundaries (where necessary).\n",
    "        # To do: Compute `diff`, the relative L2-norm of the difference\n",
    "        # in the solution between two successive iterations.\n",
    "        ###\n",
    "        \n",
    "    return u, ite, diff"
   ]
  },
  {
   "cell_type": "markdown",
   "metadata": {},
   "source": [
    "## Re-do convergence analysis"
   ]
  },
  {
   "cell_type": "code",
   "execution_count": null,
   "metadata": {},
   "outputs": [],
   "source": [
    "# List of grid-spacing sizes to investigate.\n",
    "dx_vals = [0.1, 0.05, 0.025, 0.0125]\n",
    "\n",
    "# Empty list to store the error on each grid.\n",
    "errors = []\n",
    "\n",
    "for dx in dx_vals:\n",
    "    ###\n",
    "    # To do: Re-create the space grid.\n",
    "    # To do: re-set the initial guess.\n",
    "    # To do: Relax the solution with Jacobi.\n",
    "    # To do: Compute the analytical solution.\n",
    "    # To do: Compute and append the relative L2 error to `errors`.\n",
    "    ###\n",
    "    "
   ]
  },
  {
   "cell_type": "code",
   "execution_count": null,
   "metadata": {},
   "outputs": [],
   "source": [
    "###\n",
    "# To do: Plot (loglog) the error versus the grid-spacing size.\n",
    "# Question: What's the order of convergence?\n",
    "###\n"
   ]
  },
  {
   "cell_type": "code",
   "execution_count": null,
   "metadata": {},
   "outputs": [],
   "source": []
  }
 ],
 "metadata": {
  "kernelspec": {
   "display_name": "Python 3 (MAE6286)",
   "language": "python",
   "name": "py36-mae6286"
  },
  "language_info": {
   "codemirror_mode": {
    "name": "ipython",
    "version": 3
   },
   "file_extension": ".py",
   "mimetype": "text/x-python",
   "name": "python",
   "nbconvert_exporter": "python",
   "pygments_lexer": "ipython3",
   "version": "3.6.9"
  }
 },
 "nbformat": 4,
 "nbformat_minor": 2
}
